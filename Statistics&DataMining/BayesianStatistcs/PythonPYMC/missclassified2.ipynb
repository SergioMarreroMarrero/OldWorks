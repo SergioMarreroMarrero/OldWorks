{
 "cells": [
  {
   "cell_type": "code",
   "execution_count": 19,
   "metadata": {
    "collapsed": true
   },
   "outputs": [],
   "source": [
    "#%%\n",
    "import pymc3 as mc\n",
    "import numpy as np\n",
    "import matplotlib.pyplot as plt"
   ]
  },
  {
   "cell_type": "code",
   "execution_count": 32,
   "metadata": {},
   "outputs": [
    {
     "data": {
      "text/plain": [
       "array([ 0.1 ,  0.5 ,  0.05,  5.  ,  0.1 ])"
      ]
     },
     "execution_count": 32,
     "metadata": {},
     "output_type": "execute_result"
    }
   ],
   "source": [
    ""
   ]
  },
  {
   "cell_type": "code",
   "execution_count": 20,
   "metadata": {
    "collapsed": true
   },
   "outputs": [],
   "source": [
    "#segundo ejemplo\n",
    "\n",
    "\n",
    "\n",
    "ro = np.array([4, 3, 1, 0.5, 0.3])\n",
    "Y = np.array([186, 152, 49, 20, 13])\n",
    "N = np.sum(Y)\n",
    "C = np.size(Y)\n",
    "\n",
    "\n",
    "A = np.array([[6, 0.5, 0.02, 0.3, 0.05],\n",
    "              [0.1, 5.0, 0.4, 0.1, 0.05],\n",
    "               [0.01, 0.1, 6, 0.05, 0.1],\n",
    "               [0.1, 0.5, 0.05, 5, 0.1],\n",
    "               [0.05, 0.3, 0.3, 0.3, 5]\n",
    "               ])\n",
    "\n",
    "\n",
    "p = np.zeros(5)\n",
    "theta = np.zeros(5)\n",
    "lamb = np.zeros([5,5])"
   ]
  },
  {
   "cell_type": "code",
   "execution_count": 23,
   "metadata": {
    "collapsed": true
   },
   "outputs": [
    {
     "name": "stdout",
     "output_type": "stream",
     "text": [
      "Help on class Model in module pymc.Model:\n\nclass Model(pymc.Container.ObjectContainer)\n |  The base class for all objects that fit probability models. Model is initialized with:\n |  \n |    >>> A = Model(input, verbose=0)\n |  \n |    :Parameters:\n |      - input : module, list, tuple, dictionary, set, object or nothing.\n |          Model definition, in terms of Stochastics, Deterministics, Potentials and Containers.\n |          If nothing, all nodes are collected from the base namespace.\n |  \n |  Attributes:\n |    - deterministics\n |    - stochastics (with observed=False)\n |    - data (stochastic variables with observed=True)\n |    - variables\n |    - potentials\n |    - containers\n |    - nodes\n |    - all_objects\n |    - status: Not useful for the Model base class, but may be used by subclasses.\n |  \n |  The following attributes only exist after the appropriate method is called:\n |    - moral_neighbors: The edges of the moralized graph. A dictionary, keyed by stochastic variable,\n |      whose values are sets of stochastic variables. Edges exist between the key variable and all variables\n |      in the value. Created by method _moralize.\n |    - extended_children: The extended children of self's stochastic variables. See the docstring of\n |      extend_children. This is a dictionary keyed by stochastic variable.\n |    - generations: A list of sets of stochastic variables. The members of each element only have parents in\n |      previous elements. Created by method find_generations.\n |  \n |  Methods:\n |     - sample_model_likelihood(iter): Generate and return iter samples of p(data and potentials|model).\n |       Can be used to generate Bayes' factors.\n |  \n |  :SeeAlso: Sampler, MAP, NormalApproximation, weight, Container, graph.\n |  \n |  Method resolution order:\n |      Model\n |      pymc.Container.ObjectContainer\n |      pymc.six.NewBase\n |      pymc.Node.ContainerBase\n |      __builtin__.object\n |  \n |  Methods defined here:\n |  \n |  __init__(self, input=None, name=None, verbose=-1)\n |      Initialize a Model instance.\n |      \n |      :Parameters:\n |        - input : module, list, tuple, dictionary, set, object or nothing.\n |            Model definition, in terms of Stochastics, Deterministics, Potentials and Containers.\n |            If nothing, all nodes are collected from the base namespace.\n |  \n |  draw_from_prior(self)\n |      Sets all variables to random values drawn from joint 'prior', meaning contributions\n |      of data and potentials to the joint distribution are not considered.\n |  \n |  get_node(self, node_name)\n |      Retrieve node with passed name\n |  \n |  seed(self)\n |      Seed new initial values for the stochastics.\n |  \n |  ----------------------------------------------------------------------\n |  Data descriptors defined here:\n |  \n |  generations\n |  \n |  ----------------------------------------------------------------------\n |  Data and other attributes defined here:\n |  \n |  __slotnames__ = []\n |  \n |  register = False\n |  \n |  ----------------------------------------------------------------------\n |  Methods inherited from pymc.Container.ObjectContainer:\n |  \n |  replace(self, item, new_container, key)\n |  \n |  ----------------------------------------------------------------------\n |  Data descriptors inherited from pymc.Container.ObjectContainer:\n |  \n |  value\n |      A copy of self, with all variables replaced by their values.\n |  \n |  ----------------------------------------------------------------------\n |  Methods inherited from pymc.Node.ContainerBase:\n |  \n |  assimilate(self, new_container)\n |  \n |  ----------------------------------------------------------------------\n |  Data descriptors inherited from pymc.Node.ContainerBase:\n |  \n |  __dict__\n |      dictionary for instance variables (if defined)\n |  \n |  __weakref__\n |      list of weak references to the object (if defined)\n |  \n |  logp\n |      The summed log-probability of all stochastic variables (data\n |      or otherwise) and factor potentials in self.\n |  \n |  ----------------------------------------------------------------------\n |  Data and other attributes inherited from pymc.Node.ContainerBase:\n |  \n |  change_methods = []\n |  \n |  containing_classes = []\n\n"
     ]
    }
   ],
   "source": [
    "help(mc.Model)"
   ]
  },
  {
   "cell_type": "code",
   "execution_count": 22,
   "metadata": {
    "collapsed": true
   },
   "outputs": [
    {
     "ename": "TypeError",
     "evalue": "__init__() takes at most 4 arguments (9 given)",
     "traceback": [
      "\u001b[0;31m\u001b[0m",
      "\u001b[0;31mTypeError\u001b[0mTraceback (most recent call last)",
      "\u001b[0;32m<ipython-input-22-9663df3848cf>\u001b[0m in \u001b[0;36m<module>\u001b[0;34m()\u001b[0m\n\u001b[0;32m----> 1\u001b[0;31m \u001b[0mmulti_model1\u001b[0m \u001b[0;34m=\u001b[0m \u001b[0mmc\u001b[0m\u001b[0;34m.\u001b[0m\u001b[0mModel\u001b[0m\u001b[0;34m(\u001b[0m\u001b[0mro\u001b[0m\u001b[0;34m,\u001b[0m\u001b[0mA\u001b[0m\u001b[0;34m,\u001b[0m\u001b[0mp\u001b[0m\u001b[0;34m,\u001b[0m\u001b[0mtheta\u001b[0m\u001b[0;34m,\u001b[0m\u001b[0mlamb\u001b[0m\u001b[0;34m,\u001b[0m\u001b[0mY\u001b[0m\u001b[0;34m,\u001b[0m\u001b[0mN\u001b[0m\u001b[0;34m,\u001b[0m\u001b[0mC\u001b[0m\u001b[0;34m)\u001b[0m\u001b[0;34m\u001b[0m\u001b[0m\n\u001b[0m\u001b[1;32m      2\u001b[0m \u001b[0;32mwith\u001b[0m \u001b[0mmulti_model1\u001b[0m\u001b[0;34m:\u001b[0m\u001b[0;34m\u001b[0m\u001b[0m\n\u001b[1;32m      3\u001b[0m     \u001b[0mtheta\u001b[0m \u001b[0;34m=\u001b[0m \u001b[0mmc\u001b[0m\u001b[0;34m.\u001b[0m\u001b[0mDirichlet\u001b[0m\u001b[0;34m(\u001b[0m\u001b[0;34m'theta'\u001b[0m\u001b[0;34m,\u001b[0m \u001b[0mro\u001b[0m\u001b[0;34m)\u001b[0m\u001b[0;34m\u001b[0m\u001b[0m\n\u001b[1;32m      4\u001b[0m     \u001b[0;32mfor\u001b[0m \u001b[0mi\u001b[0m \u001b[0;32min\u001b[0m \u001b[0mrange\u001b[0m\u001b[0;34m(\u001b[0m\u001b[0;36m6\u001b[0m\u001b[0;34m)\u001b[0m\u001b[0;34m:\u001b[0m\u001b[0;34m\u001b[0m\u001b[0m\n\u001b[1;32m      5\u001b[0m        \u001b[0mlamb\u001b[0m\u001b[0;34m[\u001b[0m\u001b[0mi\u001b[0m\u001b[0;34m,\u001b[0m\u001b[0;34m]\u001b[0m \u001b[0;34m=\u001b[0m \u001b[0mmc\u001b[0m\u001b[0;34m.\u001b[0m\u001b[0mDirichlet\u001b[0m\u001b[0;34m(\u001b[0m\u001b[0;34m'lamb_{}'\u001b[0m\u001b[0;34m.\u001b[0m\u001b[0mformat\u001b[0m\u001b[0;34m(\u001b[0m\u001b[0mi\u001b[0m\u001b[0;34m)\u001b[0m \u001b[0;34m,\u001b[0m \u001b[0mA\u001b[0m\u001b[0;34m[\u001b[0m\u001b[0mi\u001b[0m\u001b[0;34m,\u001b[0m\u001b[0;34m:\u001b[0m\u001b[0;34m]\u001b[0m\u001b[0;34m)\u001b[0m\u001b[0;34m\u001b[0m\u001b[0m\n",
      "\u001b[0;31mTypeError\u001b[0m: __init__() takes at most 4 arguments (9 given)"
     ],
     "output_type": "error"
    }
   ],
   "source": [
    "multi_model1 = mc.Model()\n",
    "with multi_model1:\n",
    "    theta = mc.Dirichlet('theta', ro)\n",
    "    for i in range(6):\n",
    "       lamb[i,] = mc.Dirichlet('lamb_{}'.format(i) , A[i,:])\n",
    "       p[i] = np.dot(theta , lamb[i,:])\n",
    "    \n",
    "   \n",
    "       \n",
    "    y = mc.Multinomial('y', N , p , observed = Y) \n",
    "    x = mc.Multinomial('x', N, theta)"
   ]
  },
  {
   "cell_type": "code",
   "execution_count": null,
   "metadata": {},
   "outputs": [],
   "source": [
    ""
   ]
  },
  {
   "cell_type": "code",
   "execution_count": null,
   "metadata": {},
   "outputs": [],
   "source": [
    ""
   ]
  }
 ],
 "metadata": {
  "kernelspec": {
   "display_name": "Python 2",
   "language": "python",
   "name": "python2"
  },
  "language_info": {
   "codemirror_mode": {
    "name": "ipython",
    "version": 2.0
   },
   "file_extension": ".py",
   "mimetype": "text/x-python",
   "name": "python",
   "nbconvert_exporter": "python",
   "pygments_lexer": "ipython2",
   "version": "2.7.6"
  }
 },
 "nbformat": 4,
 "nbformat_minor": 0
}